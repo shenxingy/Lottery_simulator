{
 "cells": [
  {
   "cell_type": "code",
   "execution_count": 34,
   "metadata": {},
   "outputs": [
    {
     "name": "stdout",
     "output_type": "stream",
     "text": [
      "Prize 1: 207 times (20.70%)\n",
      "Prize 2: 68 times (6.80%)\n",
      "Prize 3: 536 times (53.60%)\n",
      "Prize 4: 40 times (4.00%)\n",
      "Prize 5: 61 times (6.10%)\n",
      "Prize 6: 49 times (4.90%)\n",
      "Prize 7: 21 times (2.10%)\n",
      "Prize 8: 18 times (1.80%)\n"
     ]
    }
   ],
   "source": [
    "import random\n",
    "\n",
    "# Define the prizes and their corresponding probabilities\n",
    "prizes = {\n",
    "    \"Prize 1\": 23,  \n",
    "    \"Prize 2\": 10,   \n",
    "    \"Prize 3\": 65,   \n",
    "    \"Prize 4\": 4,    \n",
    "    \"Prize 5\": 6,    \n",
    "    \"Prize 6\": 5,   \n",
    "    \"Prize 7\": 3,  \n",
    "    \"Prize 8\": 2   \n",
    "}\n",
    "\n",
    "# create possibilities\n",
    "total = sum(prizes.values())\n",
    "prizes_possibilities = {prize: probability / total for prize, probability in prizes.items()}\n",
    "\n",
    "# Simulate drawing the lottery multiple times\n",
    "num_draws = 1000\n",
    "results = {prize: 0 for prize in prizes}\n",
    "\n",
    "for _ in range(num_draws):\n",
    "    winner = draw_lottery(prizes_possibilities)\n",
    "    results[winner] += 1\n",
    "\n",
    "# Print the results\n",
    "for prize, count in results.items():\n",
    "    print(f\"{prize}: {count} times ({count / num_draws * 100:.2f}%)\")"
   ]
  },
  {
   "cell_type": "code",
   "execution_count": 35,
   "metadata": {},
   "outputs": [
    {
     "name": "stdout",
     "output_type": "stream",
     "text": [
      "Prize 7\n"
     ]
    }
   ],
   "source": [
    "def draw_lottery(prizes):\n",
    "    # Generate a random number between 0 and 1\n",
    "    random_number = random.random()\n",
    "\n",
    "    # Initialize the cumulative probability\n",
    "    cumulative_prob = 0\n",
    "\n",
    "    # Iterate through the prizes and check if the random number falls within the probability range\n",
    "    for prize, probability in prizes.items():\n",
    "        cumulative_prob += probability\n",
    "        if random_number <= cumulative_prob:\n",
    "            return prize\n",
    "\n",
    "winner = draw_lottery(prizes_possibilities)\n",
    "print(winner)"
   ]
  },
  {
   "cell_type": "code",
   "execution_count": null,
   "metadata": {},
   "outputs": [],
   "source": []
  }
 ],
 "metadata": {
  "kernelspec": {
   "display_name": "base",
   "language": "python",
   "name": "python3"
  },
  "language_info": {
   "codemirror_mode": {
    "name": "ipython",
    "version": 3
   },
   "file_extension": ".py",
   "mimetype": "text/x-python",
   "name": "python",
   "nbconvert_exporter": "python",
   "pygments_lexer": "ipython3",
   "version": "3.10.9"
  },
  "orig_nbformat": 4
 },
 "nbformat": 4,
 "nbformat_minor": 2
}
